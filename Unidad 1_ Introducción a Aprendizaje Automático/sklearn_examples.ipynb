{
 "cells": [
  {
   "cell_type": "code",
   "execution_count": 1,
   "metadata": {},
   "outputs": [],
   "source": [
    "# importar bibliotecas (previamente instalar):\n",
    "\n",
    "# Pandas para manipulación de datos a través de DataFrames:\n",
    "import pandas as pd\n",
    "# numpy: biblioteca por excelencia a la hora de trabajar con vectores o matrices\n",
    "import numpy as np\n",
    "\n",
    "# Scikit-learn: biblioteca de aprendizaje automático de código abierto para Python. \n",
    "# de aquí obtendremos:\n",
    "# - train_test_split: para dividir los datos en conjuntos de entrenamiento y prueba\n",
    "# - normalizadores y escaladores de características\n",
    "# - pipelines\n",
    "# - algoritmos de IA: regresión lineal, regresión logística, etc.\n",
    "# - métricas de evaluación\n",
    "# - métodos de optimización de hiperparámetros (los veremos más adelante)\n",
    "# - incluso contiene conjuntos de datos de juguete para practicar\n",
    "# - etc.\n",
    "\n",
    "from sklearn.model_selection import train_test_split\n",
    "from sklearn.preprocessing import StandardScaler, OneHotEncoder\n",
    "from sklearn.pipeline import Pipeline\n",
    "from sklearn.linear_model import LogisticRegression, LinearRegression, Lasso, Ridge, ElasticNet\n",
    "from sklearn.metrics import accuracy_score, confusion_matrix, classification_report, roc_auc_score, roc_curve, auc, precision_recall_curve, f1_score\n"
   ]
  },
  {
   "cell_type": "code",
   "execution_count": 2,
   "metadata": {},
   "outputs": [
    {
     "name": "stdout",
     "output_type": "stream",
     "text": [
      "   sepal_length  sepal_width  petal_length  petal_width species\n",
      "0           5.1          3.5           1.4          0.2  setosa\n",
      "1           4.9          3.0           1.4          0.2  setosa\n",
      "2           4.7          3.2           1.3          0.2  setosa\n",
      "3           4.6          3.1           1.5          0.2  setosa\n",
      "4           5.0          3.6           1.4          0.2  setosa\n"
     ]
    }
   ],
   "source": [
    "######## Cargar un dataset con pandas\n",
    "# Usaremos el dataset Iris como ejemplo\n",
    "df = pd.read_csv('https://raw.githubusercontent.com/mwaskom/seaborn-data/master/iris.csv')\n",
    "print(df.head())\n",
    "\n",
    "### el csv puede estar en tu computadora, y en otros formatos: excel, db, etc (hay una funcion especifica para cada uno de ellos)\n"
   ]
  },
  {
   "cell_type": "code",
   "execution_count": 3,
   "metadata": {},
   "outputs": [],
   "source": [
    "###### division train - test\n",
    "# dividir el dataset en dos conjuntos: entrenamiento y prueba\n",
    "# esto es para poder evaluar el modelo en datos que no ha visto antes\n",
    "\n",
    "# X: matriz de características (FEATURES)\n",
    "# y: vector de etiquetas (TARGET)\n",
    "\n",
    "X = df.drop('species', axis=1)\n",
    "y = df['species']\n",
    "\n",
    "X_train, X_test, y_train, y_test = train_test_split(X, y, test_size=0.2, random_state=42)\n",
    "\n",
    "## podés hacerlo de forma aleatoria, o no."
   ]
  },
  {
   "cell_type": "code",
   "execution_count": 4,
   "metadata": {},
   "outputs": [
    {
     "data": {
      "text/plain": [
       "((120, 4), (30, 4), (120,), (30,))"
      ]
     },
     "execution_count": 4,
     "metadata": {},
     "output_type": "execute_result"
    }
   ],
   "source": [
    "X_train.shape, X_test.shape, y_train.shape, y_test.shape"
   ]
  },
  {
   "cell_type": "code",
   "execution_count": 5,
   "metadata": {},
   "outputs": [
    {
     "name": "stdout",
     "output_type": "stream",
     "text": [
      "Accuracy: 1.0\n"
     ]
    }
   ],
   "source": [
    "###### entrenar un modelo \n",
    "\n",
    "# crear un pipeline para la preprocesamiento y el modelo\n",
    "pipeline = Pipeline([\n",
    "    ('scaler', StandardScaler()),  # escalar los datos\n",
    "    ('classifier', LogisticRegression())  # Modelo de clasificación\n",
    "])\n",
    "\n",
    "# ajustar el modelo a los datos de entrenamiento\n",
    "pipeline.fit(X_train, y_train)\n",
    "\n",
    "# hacer predicciones con el conjunto de prueba\n",
    "y_pred = pipeline.predict(X_test)\n",
    "print(f\"Accuracy: {accuracy_score(y_test, y_pred)}\")\n"
   ]
  },
  {
   "cell_type": "code",
   "execution_count": 6,
   "metadata": {},
   "outputs": [
    {
     "name": "stdout",
     "output_type": "stream",
     "text": [
      "Antes del escalado:\n",
      "    sepal_length  sepal_width  petal_length  petal_width\n",
      "22           4.6          3.6           1.0          0.2\n",
      "15           5.7          4.4           1.5          0.4\n",
      "65           6.7          3.1           4.4          1.4\n",
      "11           4.8          3.4           1.6          0.2\n",
      "42           4.4          3.2           1.3          0.2\n",
      "Después del escalado:\n",
      "[[-1.47393679  1.20365799 -1.56253475 -1.31260282]\n",
      " [-0.13307079  2.99237573 -1.27600637 -1.04563275]\n",
      " [ 1.08589829  0.08570939  0.38585821  0.28921757]\n",
      " [-1.23014297  0.75647855 -1.2187007  -1.31260282]\n",
      " [-1.7177306   0.30929911 -1.39061772 -1.31260282]]\n"
     ]
    }
   ],
   "source": [
    "\n",
    "### Transformaciones con fit_transform y transform\n",
    "# Ejemplo con StandardScaler\n",
    "scaler = StandardScaler()\n",
    "X_train_scaled = scaler.fit_transform(X_train)\n",
    "X_test_scaled = scaler.transform(X_test)\n",
    "\n",
    "print(\"Antes del escalado:\")\n",
    "print(X_train.head())\n",
    "print(\"Después del escalado:\")\n",
    "print(X_train_scaled[:5, :])"
   ]
  },
  {
   "cell_type": "code",
   "execution_count": 7,
   "metadata": {},
   "outputs": [],
   "source": [
    "###### Conclusiones y referencias\n",
    "### documentación oficial de scikit-learn: https://scikit-learn.org/stable/user_guide.html\")"
   ]
  }
 ],
 "metadata": {
  "kernelspec": {
   "display_name": "Python 3",
   "language": "python",
   "name": "python3"
  },
  "language_info": {
   "codemirror_mode": {
    "name": "ipython",
    "version": 3
   },
   "file_extension": ".py",
   "mimetype": "text/x-python",
   "name": "python",
   "nbconvert_exporter": "python",
   "pygments_lexer": "ipython3",
   "version": "3.11.6"
  }
 },
 "nbformat": 4,
 "nbformat_minor": 2
}
