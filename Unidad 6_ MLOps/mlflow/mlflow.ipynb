{
 "cells": [
  {
   "cell_type": "code",
   "execution_count": 1,
   "metadata": {},
   "outputs": [],
   "source": [
    "!pip install --quiet mlflow"
   ]
  },
  {
   "cell_type": "code",
   "execution_count": 1,
   "metadata": {},
   "outputs": [],
   "source": [
    "import mlflow\n",
    "import mlflow.sklearn\n",
    "import numpy as np\n",
    "import pandas as pd\n",
    "from sklearn.datasets import load_wine\n",
    "from sklearn.model_selection import train_test_split\n",
    "from sklearn.ensemble import RandomForestClassifier\n",
    "from sklearn.metrics import accuracy_score"
   ]
  },
  {
   "cell_type": "code",
   "execution_count": 2,
   "metadata": {},
   "outputs": [],
   "source": [
    "class WineModelTrainer:\n",
    "    def __init__(self):\n",
    "        self.model = None\n",
    "        self.X_train = None\n",
    "        self.X_test = None\n",
    "        self.y_train = None\n",
    "        self.y_test = None\n",
    "        self.accuracy = None\n",
    "\n",
    "    def load_data(self):\n",
    "        \"\"\"\n",
    "        Se carga la data y se divide en train - test.\n",
    "        \"\"\"\n",
    "        data = load_wine()\n",
    "        X = pd.DataFrame(data.data, columns=data.feature_names)\n",
    "        y = pd.Series(data.target)\n",
    "        self.X_train, self.X_test, self.y_train, self.y_test = train_test_split(X, y, test_size=0.2, random_state=42)\n",
    "\n",
    "    def train_model(self, n_estimators=100):\n",
    "        \"\"\"\n",
    "        Se entrena un modelo de Random Forest CLassifier. Antes de entrenar, se realizan los procesos de feature engineering, limpieza de datos, etc.\n",
    "        Esto es un ejemplo.\n",
    "        \"\"\"\n",
    "        self.model = RandomForestClassifier(n_estimators=n_estimators, random_state=42)\n",
    "        self.model.fit(self.X_train, self.y_train)\n",
    "\n",
    "    def evaluate_model(self):\n",
    "        \"\"\"\n",
    "        Función para evaluar el modelo. La métrica utilizada es accuracy, eso se puede cambiar, acorde al problema, y a la decisión que tomen.\n",
    "        \"\"\"\n",
    "        y_pred = self.model.predict(self.X_test)\n",
    "        self.accuracy = accuracy_score(self.y_test, y_pred)\n",
    "        print(f'Accuracy: {self.accuracy}')"
   ]
  },
  {
   "cell_type": "code",
   "execution_count": 3,
   "metadata": {},
   "outputs": [],
   "source": [
    "class MLflowLogger:\n",
    "    def __init__(self, run_name=\"WineModelRun\"):\n",
    "        mlflow.start_run(run_name=run_name)\n",
    "\n",
    "    def log_params(self, params):\n",
    "        mlflow.log_params(params)\n",
    "\n",
    "    def log_metric(self, name, value):\n",
    "        mlflow.log_metric(name, value)\n",
    "\n",
    "    def log_model(self, model, model_name=\"model\"):\n",
    "        mlflow.sklearn.log_model(model, model_name)\n",
    "\n",
    "    def end_run(self):\n",
    "        mlflow.end_run()"
   ]
  },
  {
   "cell_type": "code",
   "execution_count": 4,
   "metadata": {},
   "outputs": [],
   "source": [
    "class WineModelPredictor:\n",
    "    def __init__(self, logged_model):\n",
    "        self.model = mlflow.pyfunc.load_model(logged_model)\n",
    "       \n",
    "    def predict(self, new_data):\n",
    "        if self.model:\n",
    "            return self.model.predict(new_data)\n",
    "        else:\n",
    "            print(\"Model not loaded. Cannot make predictions.\")\n",
    "            return None\n",
    "\n",
    "def evaluate_predictions(true_labels, predicted_labels):\n",
    "    if len(true_labels)>1:\n",
    "        return accuracy_score(true_labels, predicted_labels)\n",
    "    elif true_labels==predicted_labels:\n",
    "        return 1\n",
    "    else:\n",
    "        return 0"
   ]
  },
  {
   "cell_type": "code",
   "execution_count": 5,
   "metadata": {},
   "outputs": [
    {
     "name": "stdout",
     "output_type": "stream",
     "text": [
      "Accuracy: 1.0\n"
     ]
    }
   ],
   "source": [
    "wine_trainer = WineModelTrainer()\n",
    "wine_trainer.load_data()\n",
    "n_estimators=200\n",
    "wine_trainer.train_model(n_estimators=n_estimators)\n",
    "wine_trainer.evaluate_model()\n",
    "\n",
    "mlflow_logger = MLflowLogger()\n",
    "\n",
    "mlflow_logger.log_params({\"n_estimators\": n_estimators})\n",
    "mlflow_logger.log_metric(\"accuracy\", wine_trainer.accuracy)\n",
    "mlflow_logger.log_model(wine_trainer.model)\n",
    "mlflow_logger.end_run()"
   ]
  },
  {
   "cell_type": "code",
   "execution_count": 11,
   "metadata": {},
   "outputs": [
    {
     "name": "stderr",
     "output_type": "stream",
     "text": [
      "C:\\Users\\Markethub\\AppData\\Roaming\\Python\\Python311\\site-packages\\sklearn\\base.py:464: UserWarning: X does not have valid feature names, but RandomForestClassifier was fitted with feature names\n",
      "  warnings.warn(\n"
     ]
    }
   ],
   "source": [
    "test_data = wine_trainer.X_test.iloc[13].values.reshape(-1,1).T\n",
    "\n",
    "model_predictor = WineModelPredictor(logged_model = 'runs:/92af19627633430ab94a20f87607299b/model')\n",
    "\n",
    "predicted_label = model_predictor.predict(test_data)[0]\n",
    "\n",
    "true_label= [1]\n",
    "accuracy = evaluate_predictions(true_label, predicted_label)\n",
    "\n",
    "mlflow.start_run(run_name=\"ProductionRun\")\n",
    "\n",
    "mlflow.log_metric(\"accuracy\", accuracy)\n",
    "\n",
    "predictions_df = pd.DataFrame({\"True_Labels\": true_label, \"Predicted_Labels\": predicted_label})\n",
    "predictions_artifact_path = \"predictions.csv\"\n",
    "predictions_df.to_csv(predictions_artifact_path, index=False)\n",
    "mlflow.log_artifact(predictions_artifact_path)\n",
    "\n",
    "mlflow.end_run()"
   ]
  }
 ],
 "metadata": {
  "kernelspec": {
   "display_name": "Python 3",
   "language": "python",
   "name": "python3"
  },
  "language_info": {
   "codemirror_mode": {
    "name": "ipython",
    "version": 3
   },
   "file_extension": ".py",
   "mimetype": "text/x-python",
   "name": "python",
   "nbconvert_exporter": "python",
   "pygments_lexer": "ipython3",
   "version": "3.11.4"
  },
  "orig_nbformat": 4
 },
 "nbformat": 4,
 "nbformat_minor": 2
}
